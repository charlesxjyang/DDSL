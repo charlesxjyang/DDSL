{
 "cells": [
  {
   "cell_type": "code",
   "execution_count": 1,
   "metadata": {
    "colab": {
     "base_uri": "https://localhost:8080/",
     "height": 174
    },
    "colab_type": "code",
    "executionInfo": {
     "elapsed": 1338,
     "status": "ok",
     "timestamp": 1541466010296,
     "user": {
      "displayName": "Dana Lansigan",
      "photoUrl": "https://lh6.googleusercontent.com/-z8tbOQmjWU8/AAAAAAAAAAI/AAAAAAAAB1U/TKcR8Jv4yQ0/s64/photo.jpg",
      "userId": "11485059436611022761"
     },
     "user_tz": 480
    },
    "id": "3sdJui0nqILe",
    "outputId": "a952f0df-4722-43a4-f43f-a913e36b23d4"
   },
   "outputs": [],
   "source": [
    "import os\n",
    "\n",
    "os.environ['NUMBAPRO_LIBDEVICE'] = \"/usr/local/cuda/nvvm/libdevice/\"\n",
    "os.environ['NUMBAPRO_NVVM'] = \"/usr/local/cuda/nvvm/lib64/libnvvm.so\""
   ]
  },
  {
   "cell_type": "code",
   "execution_count": 3,
   "metadata": {
    "colab": {},
    "colab_type": "code",
    "id": "TeUE-BJSS0ET"
   },
   "outputs": [],
   "source": [
    "import torch\n",
    "import torch.nn as nn\n",
    "import torch.nn.functional as F\n",
    "\n",
    "import argparse\n",
    "import importlib.machinery\n",
    "# import types\n",
    "import os\n",
    "# import pickle\n",
    "from shapely import wkt, geometry\n",
    "import json\n",
    "import numpy as np\n",
    "from copy import deepcopy\n",
    "from IPython.core.debugger import set_trace\n",
    "import sys\n",
    "sys.path.append(\"../../ddsl/\")\n",
    "\n",
    "from ddsl import *\n",
    "from airfoil_NUFT import *\n",
    "\n",
    "from AFNet import AFNet\n",
    "\n",
    "\n",
    "import pandas as pd\n",
    "      \n",
    "class PolyAirfoils(object):\n",
    "    def __init__(self, airfoil):\n",
    "        V,E,_=construct_VED(airfoil, 'cuda', True)\n",
    "        self.V=V\n",
    "        self.E=E\n",
    "        \n",
    "    def __getitem__(self):\n",
    "        return self.V, self.E\n",
    "    \n",
    "    def get_poly(self):\n",
    "        P=Polygon(self.V)\n",
    "        return P\n",
    "\n",
    "\n",
    "class ShapeOptimizer(object):\n",
    "    def __init__(self, polygon, C, model, cfd_data, target, device):\n",
    "        \"\"\"\n",
    "        object for optimizing polygonal shapes (MNIST experiment)\n",
    "        params:\n",
    "        polygon: shapely Polygon or MultiPolygon object.\n",
    "        C: shape (#C, 2) control points\n",
    "        model: trained pytorch model for inference.\n",
    "        Re: Reynolds number\n",
    "        target: int. target class to convert to.\n",
    "        device: pytorch device type\n",
    "        \"\"\"\n",
    "        self.CPoly = CPolygon(polygon, C)\n",
    "        self.V = self.CPoly.V\n",
    "        self.E = self.CPoly.E\n",
    "        self.polygon = [polygon]\n",
    "        self.D = torch.ones(self.E.shape[0], 1, dtype=torch.float64)\n",
    "        self.model = model\n",
    "        self.cfd_data=cfd_data\n",
    "        self.target_tensor = torch.tensor(target, dtype=torch.float64).view(-1,1).to(device)\n",
    "        self.dV = None\n",
    "        self.dC = None\n",
    "        self.res = 224\n",
    "        self.profile = {\"loss\": [],\n",
    "                        \"ClCd\": []}\n",
    "        \n",
    "    def step(self, step_size=1e-3, sign=-1, stochastic=False):\n",
    "        '''\n",
    "        combines _get_grad and _step.\n",
    "        sign = 1 for maximizing score\n",
    "        sign = -1 for minimizing score\n",
    "        '''\n",
    "        assert(sign==1 or sign==-1)\n",
    "        self._get_grad()\n",
    "        self._step(step_size=step_size, sign=sign, stochastic=stochastic)\n",
    "\n",
    "    def _step(self, step_size=1e-3, sign=-1, stochastic=False):\n",
    "        \"\"\"\n",
    "        Take a step toward gradient direction. \n",
    "        params:\n",
    "        step_size: gradient step size\n",
    "        sign: 1 or -1, to go maximize or minimize value\n",
    "        check: bool. whether to enforce no-intersection constraint\n",
    "        shuffle: whether to traverse points in random order during checked updates\n",
    "        \"\"\"\n",
    "        dC = self.dC.copy()\n",
    "        if not stochastic:\n",
    "            dC[:, -1] *= 100\n",
    "            self.CPoly.update_control(sign * step_size * dC)\n",
    "        else:\n",
    "            dC = np.sign(dC)\n",
    "            dC[:, -1] *= 30\n",
    "            self.CPoly.update_control(sign * step_size * dC)\n",
    "        self.V = self.CPoly.V\n",
    "        self.polygon.append(deepcopy(self.CPoly.polygon))\n",
    "\n",
    "    def _get_grad(self):\n",
    "        \"\"\"\n",
    "        Compute gradient of loss function w.r.t. into vertices\n",
    "        params:\n",
    "        self\n",
    "        \"\"\"\n",
    "        # convert polygon vertices to physical image w/ DDSL\n",
    "        ddsl_phys=DDSL_phys((224,224),(1,1),2,1)\n",
    "        self.V=torch.tensor(self.V, dtype=torch.float64, requires_grad=True)\n",
    "        self.E=torch.LongTensor(self.E)\n",
    "        f = ddsl_phys(self.V,self.E,self.D)\n",
    "    \n",
    "        # compute loss wrt. target class\n",
    "        self.model = self.model.double()\n",
    "        self.model.eval()  \n",
    "        self.model.zero_grad()  \n",
    "        criterion=nn.MSELoss()\n",
    "        output=self.model(f, self.cfd_data)  \n",
    "        loss = criterion(output,self.target_tensor)  \n",
    "        loss.backward()  \n",
    "        self.profile['loss'].append(loss.item()) # save loss at current iteration\n",
    "        self.profile['ClCd'].append(output.item())\n",
    "\n",
    "        # compute grad on V\n",
    "        self.dV = self.V.grad.detach().cpu().numpy()\n",
    "      \n",
    "        # compute grad on C\n",
    "        dVdC = self.CPoly.dVdC\n",
    "        self.dC = np.einsum(\"ijkl,ij->kl\", dVdC, self.dV)       \n",
    "                \n",
    "class CPolygon(object):\n",
    "    def __init__(self, polygon, C):\n",
    "        self.polygon = polygon\n",
    "        self.V, self.E, self.E_segs = self.getVE()\n",
    "        self.npoly = len(self.E_segs)\n",
    "        self.C = C\n",
    "        self.W = None # shape (#V, #C)\n",
    "        self.dVdC = None # shape (#V, 2, #C, 3)\n",
    "        self._update_weights()\n",
    "        \n",
    "    def update_control(self, dC, rad=True):\n",
    "        \"\"\"dC: shape (#C, 3), where 3 dims are x, y, theta\"\"\"\n",
    "        assert(self.C.shape[0] == dC.shape[0])\n",
    "        dtheta = dC[:, 2].copy()\n",
    "        dC = dC[:, :2].copy()\n",
    "        if not rad:\n",
    "            dtheta = dtheta / 180 * np.pi\n",
    "        Vnew = np.zeros_like(self.V)\n",
    "        for i in range(dtheta.shape[0]):\n",
    "            t = dtheta[i]\n",
    "            Rot = np.array([[np.cos(t), -np.sin(t)],\n",
    "                            [np.sin(t), np.cos(t)]])\n",
    "            a, b = self.C[i]\n",
    "            Rot_trans = np.array([-a*np.cos(t)+b*np.sin(t)+a,\n",
    "                                  -a*np.sin(t)-b*np.cos(t)+b])\n",
    "           \n",
    "            Vnew += self.W[:, i:i+1] * (self.V.dot(Rot.T) + dC[i] + Rot_trans)\n",
    "        self.V = Vnew # update vertices\n",
    "        self.C += dC # update control points\n",
    "        self.polygon = self.newPolygon(self.V) # update polygon\n",
    "        self._update_weights() # update weights and sensitivity matrix\n",
    "\n",
    "    def _update_weights(self):\n",
    "        self.W = np.zeros([self.V.shape[0], self.C.shape[0]])\n",
    "        for i in range(self.W.shape[0]):\n",
    "            for j in range(self.W.shape[1]):\n",
    "                v = self.V[i]\n",
    "                c = self.C[j]\n",
    "                self.W[i,j] = 1/(np.linalg.norm(c-v)**2)\n",
    "        # normalize\n",
    "        self.W = (self.W.T / np.sum(self.W, axis=1)).T\n",
    "        # compute sensitivity matrix\n",
    "        nV = self.V.shape[0]\n",
    "        nC = self.C.shape[0]\n",
    "        self.dVdC = np.zeros([nV, 2, nC, 3])\n",
    "        vx, vy = self.V[:, 0:1], self.V[:, 1:2]\n",
    "        cx, cy = self.C[:, 0], self.C[:, 1]\n",
    "        # d vx / d cx\n",
    "        self.dVdC[:, 0, :, 0] = self.W\n",
    "        # d vy / d cy\n",
    "        self.dVdC[:, 1, :, 1] = self.W\n",
    "        # d vx / d ctheta\n",
    "        self.dVdC[:, 0, :, 2] = self.W * (-vy+cy)\n",
    "        # d vy / d ctheta\n",
    "        self.dVdC[:, 1, :, 2] = self.W * (vx-cx)\n",
    "        \n",
    "        \n",
    "    def edgeList(self, startid, length, flip=False):\n",
    "        # helper function to create edge list\n",
    "        p1 = np.arange(startid, startid+length)\n",
    "        p2 = p1 + 1\n",
    "        p2[-1] = startid\n",
    "        if not flip:\n",
    "            return np.stack((p1, p2), axis=-1)\n",
    "        else:\n",
    "            return np.flipud(np.stack((p2, p1), axis=-1))\n",
    "        \n",
    "    def singlePolygon(self, P):\n",
    "        # helper function for processing a single polygon instance\n",
    "        assert(isinstance(P, geometry.polygon.Polygon))\n",
    "        v = []\n",
    "        e = []\n",
    "        ecount = 0\n",
    "        # exterior\n",
    "        v_ex = np.array(P.exterior)[:-1]\n",
    "        e_ex = self.edgeList(0, v_ex.shape[0])\n",
    "        v.append(v_ex)\n",
    "        e.append(e_ex)\n",
    "        ecount += v_ex.shape[0]\n",
    "        # interiors\n",
    "        for int_ in P.interiors:\n",
    "            v_in = np.array(int_)\n",
    "            e_in = self.edgeList(ecount, v_in.shape[0], flip=False)\n",
    "            v.append(v_in)\n",
    "            e.append(e_in)\n",
    "            ecount += v_in.shape[0]\n",
    "        v = np.concatenate(v, axis=0)\n",
    "        e_segs = e\n",
    "        e = np.concatenate(e, axis=0)\n",
    "        if not P.exterior.is_ccw:\n",
    "            e = np.concatenate([e[:, 1:2], e[:, 0:1]], axis=-1) # flip e\n",
    "        return v, e, e_segs\n",
    "    \n",
    "    def getVE(self):\n",
    "        E_segs = []\n",
    "        if isinstance(self.polygon, geometry.polygon.Polygon):\n",
    "            V, E, e_segs = self.singlePolygon(self.polygon)\n",
    "            E_segs.append(e_segs)\n",
    "        elif isinstance(self.polygon, geometry.multipolygon.MultiPolygon):\n",
    "            V = []\n",
    "            E = []\n",
    "            E_segs = []\n",
    "            ecount = 0\n",
    "            for P in self.polygon.geoms:\n",
    "                v, e, e_segs = self.singlePolygon(P)\n",
    "                V.append(v)\n",
    "                E.append(e+ecount)\n",
    "                for s in e_segs:\n",
    "                    s += ecount\n",
    "                E_segs.append(e_segs)\n",
    "                ecount += v.shape[0]\n",
    "            V = np.concatenate(V, axis=0)\n",
    "            E = np.concatenate(E, axis=0)\n",
    "        \n",
    "        return V, E, E_segs\n",
    "    \n",
    "    def newPolygon(self, V):\n",
    "        np.testing.assert_array_equal(V.shape, self.V.shape)\n",
    "        polys = []\n",
    "        for loops in self.E_segs:\n",
    "            # exterior loop\n",
    "            ext_loop = loops[0][:, 0]\n",
    "            ext_v = geometry.asLinearRing(V[ext_loop])\n",
    "            ints_v = []\n",
    "            for i in range(1, len(loops)):\n",
    "                int_loop = loops[i][:, 0]\n",
    "                int_v = geometry.asLinearRing(V[int_loop])\n",
    "                ints_v.append(int_v)\n",
    "            poly = geometry.Polygon(ext_v, ints_v)\n",
    "            polys.append(poly)\n",
    "        if len(polys) == 1:\n",
    "            return polys[0]\n",
    "        else:\n",
    "            return geometry.MultiPolygon(polys)\n",
    "            "
   ]
  },
  {
   "cell_type": "code",
   "execution_count": 4,
   "metadata": {
    "colab": {},
    "colab_type": "code",
    "id": "ChUSOzYpS0EX"
   },
   "outputs": [],
   "source": [
    "from matplotlib import pyplot as plt\n",
    "from matplotlib.path import Path\n",
    "from matplotlib.patches import PathPatch\n",
    "from numpy import asarray, concatenate, ones\n",
    "from shapely.geometry import *\n",
    "\n",
    "def ring_coding(ob):\n",
    "    # The codes will be all \"LINETO\" commands, except for \"MOVETO\"s at the\n",
    "    # beginning of each subpath\n",
    "    n = len(ob.coords)\n",
    "    codes = ones(n, dtype=Path.code_type) * Path.LINETO\n",
    "    codes[0] = Path.MOVETO\n",
    "    return codes\n",
    "\n",
    "def pathify(polygon):\n",
    "    # Convert coordinates to path vertices. Objects produced by Shapely's\n",
    "    # analytic methods have the proper coordinate order, no need to sort.\n",
    "    vertices = concatenate(\n",
    "                    [asarray(polygon.exterior)]\n",
    "                    + [asarray(r) for r in polygon.interiors])\n",
    "    codes = concatenate(\n",
    "                [ring_coding(polygon.exterior)]\n",
    "                + [ring_coding(r) for r in polygon.interiors])\n",
    "    return Path(vertices, codes)\n",
    "\n",
    "def showPolygon(polygon):\n",
    "    fig = plt.figure(num=1, figsize=(4, 4))\n",
    "    ax = fig.add_subplot(111)\n",
    "\n",
    "    path = pathify(polygon)\n",
    "    patch = PathPatch(path, facecolor='#339966', edgecolor='#999999')\n",
    "\n",
    "    ax.add_patch(patch)\n",
    "\n",
    "    ax.set_xlim(0,1)\n",
    "    ax.set_ylim(0,1)\n",
    "    ax.set_aspect(1.0)\n",
    "    \n",
    "    return fig, ax    "
   ]
  },
  {
   "cell_type": "code",
   "execution_count": 5,
   "metadata": {},
   "outputs": [],
   "source": [
    "# Load CFD datafiles\n",
    "filepath='processed_data'\n",
    "df=pd.read_csv(os.path.join(filepath, 'airfoil_data_normalized.csv')).drop(columns=['Unnamed: 0'])\n",
    "df_orig=pd.read_csv(os.path.join(filepath, 'airfoil_data.csv')).drop(columns=['Unnamed: 0'])\n",
    "stats=pd.read_csv(os.path.join(filepath, 'airfoil_data_mean_std.csv')).drop(columns=['Unnamed: 0'])\n",
    "mean=stats['mean']\n",
    "std=stats['std']"
   ]
  },
  {
   "cell_type": "code",
   "execution_count": 11,
   "metadata": {
    "colab": {
     "base_uri": "https://localhost:8080/",
     "height": 34
    },
    "colab_type": "code",
    "executionInfo": {
     "elapsed": 374,
     "status": "ok",
     "timestamp": 1541467120877,
     "user": {
      "displayName": "Dana Lansigan",
      "photoUrl": "https://lh6.googleusercontent.com/-z8tbOQmjWU8/AAAAAAAAAAI/AAAAAAAAB1U/TKcR8Jv4yQ0/s64/photo.jpg",
      "userId": "11485059436611022761"
     },
     "user_tz": 480
    },
    "id": "Fa09Nqy7S0Ea",
    "outputId": "3c05f0a1-5825-46b6-d769-75ecb0df4716"
   },
   "outputs": [],
   "source": [
    "# parse arguments\n",
    "parser = argparse.ArgumentParser(description='MNIST shape optimization')\n",
    "parser.add_argument('-r', '--Re', type=float, default=1e6, help='Reynolds number of flow')\n",
    "parser.add_argument('-a', '--aoa', type=float, default=0, help='airfoil angle of attack')\n",
    "parser.add_argument('-c', '--C', type=str, default='example.txt', help='control points text file (default:example.txt)')\n",
    "# parser.add_argument('--save_path', type=str, help='save file path', required=True)\n",
    "parser.add_argument('-t','--save_shape_as_txt', type=bool, default=False, help='save coordinates of shapes in each iteration as text files (default: False)')\n",
    "parser.add_argument('-l', '--logdir', type=str, default=\"log_01-26-2019_10-07-23\", help='log directory path')\n",
    "parser.add_argument('-s', '--step_size', type=float, default=1e-3, help='step size for shape optimization')\n",
    "parser.add_argument('--no_cuda', action='store_true', help='do not use cuda')\n",
    "parser.add_argument('--seed', type=int, default=1, metavar='S', help='random seed (default: 1)')\n",
    "\n",
    "args = parser.parse_args('')\n",
    "\n",
    "use_cuda = not args.no_cuda and torch.cuda.is_available()\n",
    "torch.manual_seed(args.seed)\n",
    "device = torch.device(\"cuda\" if use_cuda else \"cpu\")\n",
    "\n",
    "# Load the model\n",
    "model=AFNet(bottleneck=1000)\n",
    "if use_cuda:\n",
    "    model = nn.DataParallel(model)\n",
    "model.to(device)\n",
    "state=torch.load(os.path.join(args.logdir,\"AFNet_model.checkpoint\"))\n",
    "model.load_state_dict(state['model'])\n",
    "optimizer=torch.optim.Adam(model.parameters())\n",
    "optimizer.load_state_dict(state['optim'])\n",
    "\n",
    "# Shape Optimization\n",
    "pairfoils = PolyAirfoils('n0012')\n",
    "P = pairfoils.get_poly()\n",
    "C = np.loadtxt(args.C)\n",
    "\n",
    "Re=1e6\n",
    "aoa=0\n",
    "Re_in=torch.tensor((Re-mean[1])/std[1], dtype=torch.float64).view(-1,1)\n",
    "aoa_in=torch.tensor((aoa-mean[0])/std[0], dtype=torch.float64).view(-1,1)\n",
    "cfd_data=torch.cat((Re_in, aoa_in), 1)\n",
    "\n",
    "optim = ShapeOptimizer(P, C, model, cfd_data=cfd_data, target=2.0, device=device)"
   ]
  },
  {
   "cell_type": "code",
   "execution_count": 12,
   "metadata": {},
   "outputs": [
    {
     "data": {
      "text/plain": [
       "Namespace(C='example.txt', Re=1000000.0, aoa=0, logdir='log_01-26-2019_10-07-23', no_cuda=False, save_shape_as_txt=False, seed=1, step_size=0.001)"
      ]
     },
     "execution_count": 12,
     "metadata": {},
     "output_type": "execute_result"
    }
   ],
   "source": [
    "args"
   ]
  },
  {
   "cell_type": "code",
   "execution_count": 12,
   "metadata": {
    "colab": {
     "base_uri": "https://localhost:8080/",
     "height": 2145
    },
    "colab_type": "code",
    "executionInfo": {
     "elapsed": 151578,
     "status": "error",
     "timestamp": 1541467275869,
     "user": {
      "displayName": "Dana Lansigan",
      "photoUrl": "https://lh6.googleusercontent.com/-z8tbOQmjWU8/AAAAAAAAAAI/AAAAAAAAB1U/TKcR8Jv4yQ0/s64/photo.jpg",
      "userId": "11485059436611022761"
     },
     "user_tz": 480
    },
    "id": "Pi2pWO_kS0Ee",
    "outputId": "e554e43f-dd3b-4159-cbad-bc208ee5b23d",
    "scrolled": true
   },
   "outputs": [
    {
     "name": "stdout",
     "output_type": "stream",
     "text": [
      "Iter: 0\n",
      "Iter: 0\n",
      "Iter: 1, Loss: 0.451143, Pred: 71.018982\n",
      "Iter: 2, Loss: 0.284175, Pred: 76.154285\n",
      "Iter: 3, Loss: 0.336328, Pred: 74.418060\n",
      "Iter: 4, Loss: 0.241201, Pred: 77.709009\n",
      "Iter: 5, Loss: 0.239401, Pred: 77.777031\n",
      "Iter: 6, Loss: 0.175044, Pred: 80.404262\n",
      "Iter: 7, Loss: 0.144177, Pred: 81.837344\n",
      "Iter: 8, Loss: 0.091650, Pred: 84.689365\n",
      "Iter: 9, Loss: 0.079750, Pred: 85.442920\n"
     ]
    }
   ],
   "source": [
    "%matplotlib inline\n",
    "\n",
    "from IPython.display import HTML\n",
    "import matplotlib.pyplot as plt\n",
    "from matplotlib import animation, rc\n",
    "\n",
    "savefile='optim/optim_test2'\n",
    "\n",
    "fig, ax = showPolygon(optim.polygon[-1])\n",
    "plt.close()\n",
    "\n",
    "def update(frame_number,step_size):\n",
    "    if frame_number > 0:\n",
    "        optim.step(step_size, sign=-1, stochastic=False)   \n",
    "    path = pathify(optim.polygon[-1])\n",
    "    patch = PathPatch(path, facecolor='#339966', edgecolor='#999999')\n",
    "    ax.cla()\n",
    "    ax.add_patch(patch)\n",
    "    if frame_number > 0:\n",
    "        ClCd=optim.profile['ClCd'][-1]*std[4]+mean[4]\n",
    "        title = \"Iter: {}, Loss: {:_<6f}, Pred: {:_<6f}\".format(frame_number, optim.profile['loss'][-1], ClCd)\n",
    "        x,y=optim.polygon[-1].exterior.xy\n",
    "        if args.save_shape_as_txt:\n",
    "            np.savetxt(savefile+str(frame_number).zfill(3)+'.txt',pd.DataFrame([x,y]).transpose().values)\n",
    "    else:\n",
    "        title = \"Iter: {0}\".format(frame_number)\n",
    "    ax.set_title(title)\n",
    "    print(title)\n",
    "anim = animation.FuncAnimation(fig, update, interval=100, frames=10, fargs=[4e-5])\n",
    "\n",
    "# save animation\n",
    "Writer = animation.writers['ffmpeg']\n",
    "writer = Writer(fps=5, bitrate=1800)\n",
    "anim.save(savefile+'.mp4', writer=writer)\n",
    "\n",
    "# save loss and pred\n",
    "pd.DataFrame(optim.profile).to_csv(savefile+'.csv')\n"
   ]
  },
  {
   "cell_type": "code",
   "execution_count": 18,
   "metadata": {
    "colab": {
     "base_uri": "https://localhost:8080/",
     "height": 368
    },
    "colab_type": "code",
    "executionInfo": {
     "elapsed": 416,
     "status": "ok",
     "timestamp": 1541466455798,
     "user": {
      "displayName": "Dana Lansigan",
      "photoUrl": "https://lh6.googleusercontent.com/-z8tbOQmjWU8/AAAAAAAAAAI/AAAAAAAAB1U/TKcR8Jv4yQ0/s64/photo.jpg",
      "userId": "11485059436611022761"
     },
     "user_tz": 480
    },
    "id": "d4ZT1DIyOSah",
    "outputId": "45cf0aed-cf23-4a06-deb3-2531b08522fd"
   },
   "outputs": [
    {
     "data": {
      "image/svg+xml": [
       "<svg xmlns=\"http://www.w3.org/2000/svg\" xmlns:xlink=\"http://www.w3.org/1999/xlink\" width=\"100.0\" height=\"100.0\" viewBox=\"0.013723481544232315 0.3564015196682423 0.9766311997728709 0.18671812909382868\" preserveAspectRatio=\"xMinYMin meet\"><g transform=\"matrix(1,0,0,-1,0,0.8995211684303133)\"><path fill-rule=\"evenodd\" fill=\"#66cc99\" stroke=\"#555555\" stroke-width=\"0.01953262399545742\" opacity=\"0.6\" d=\"M 0.9541831553995895,0.4078324705954689 L 0.9537268762597418,0.40799855933723245 L 0.9523468533734804,0.40850931152965686 L 0.95002451125259,0.40944427012772705 L 0.9467843934715602,0.4106842858215418 L 0.9426388863088073,0.412337391729688 L 0.9376601150051567,0.4144530999030618 L 0.9317685520547042,0.41706809344533763 L 0.9251798711964165,0.42026768451355634 L 0.9177593731860183,0.42420152062144045 L 0.90955335106765,0.42887492720130543 L 0.9003522109547362,0.43435522294565576 L 0.8899107988212206,0.44051882628912753 L 0.8778189077745231,0.4471972345735649 L 0.8638223616592708,0.4533869908964066 L 0.8478430319959642,0.45862271960882045 L 0.8306637375336177,0.46260058116485436 L 0.812850060849605,0.46548886598268846 L 0.7948114111101309,0.4680213684725706 L 0.7765781120751077,0.47062127664223324 L 0.7581128287544138,0.47367585355373926 L 0.7394617364256306,0.4770937904723959 L 0.7209524664793702,0.4795126424433568 L 0.7022057207044663,0.4811005427983701 L 0.6825992250889006,0.48233444938208825 L 0.6622401317213154,0.4834472066061857 L 0.6411803472827999,0.4850996406930619 L 0.6198718873456341,0.48774393794987164 L 0.598843214292724,0.49115156979355096 L 0.5780035924425158,0.49365619757564716 L 0.5567691414446809,0.49510397224701586 L 0.5350030309994032,0.4956524426160782 L 0.5128599963327423,0.4961336711865998 L 0.49052401084434016,0.4973087647222231 L 0.46864480913669454,0.49994699868163023 L 0.44744424843327685,0.5030806260930275 L 0.4263591111131531,0.5051420547056105 L 0.4050321279697334,0.5060834495320924 L 0.3834939395833897,0.5063205369713556 L 0.3619580237213548,0.5065226522449598 L 0.34078834875879627,0.5067751701778157 L 0.32078246089771956,0.5069481228445573 L 0.30158731568871605,0.5065364799672962 L 0.28278646727807455,0.5056174033780797 L 0.2641618751573601,0.5043754309847758 L 0.2457312401314083,0.5032491351560788 L 0.2274680817148776,0.5022928839184336 L 0.20981681891521767,0.5015231657030659 L 0.1931627516656203,0.5005764074652638 L 0.17807392064533922,0.49883337908697695 L 0.16388764702844813,0.49637186355960033 L 0.15009377943338262,0.4937337252666186 L 0.13675052030649562,0.4911132063325722 L 0.12395014875334855,0.48862572377727287 L 0.11218297612027815,0.486243921419194 L 0.10162918720987107,0.48377493150971373 L 0.09225774343344186,0.480962754470375 L 0.08370670846764716,0.4780481398243897 L 0.07609424929685304,0.4750299360996637 L 0.06924567584703245,0.4719416676400895 L 0.06349027894344701,0.468773073922751 L 0.05872750697253858,0.46545202538684743 L 0.05491751115427035,0.4620855079874714 L 0.05218200537836593,0.4585551534589341 L 0.05051047512662732,0.4549147637571191 L 0.049895007461746056,0.45110398047344935 L 0.05032496482382873,0.4471884300894029 L 0.051745772411003345,0.44334459036286805 L 0.05426441483348721,0.43955447637889655 L 0.05777370816929745,0.4357787036169362 L 0.062352629602293916,0.43212580121054756 L 0.06810411142705958,0.4285326824982386 L 0.07491542739974741,0.4249933423360473 L 0.08297288304864722,0.4214757330234661 L 0.0921349722965479,0.4177858692829662 L 0.10206902721028961,0.41392209097924926 L 0.11257201712669032,0.410486028479596 L 0.1237761702537688,0.40796481753260705 L 0.13577639680488468,0.40600492214872863 L 0.148879887534198,0.4040309300430717 L 0.16298368235364688,0.40155313569981016 L 0.17808533778888913,0.3982740991620535 L 0.19366952191357784,0.3949752642777376 L 0.20977531598780055,0.39333452481386844 L 0.22646445674912213,0.3933036684864603 L 0.24385817933430343,0.3940377632311369 L 0.261932916768398,0.39468317095119765 L 0.28082254436313686,0.39485234916483586 L 0.3004520040983507,0.39419895409147626 L 0.32060703507305394,0.392971432827633 L 0.3407678169422575,0.392573045585756 L 0.3607893566828709,0.3940712541500758 L 0.3809291894930044,0.39641298465090463 L 0.4015868676128994,0.3984374081134918 L 0.4229292605962871,0.39935520412345155 L 0.4449145072209401,0.39920185914719963 L 0.4670326875581388,0.3988210346723423 L 0.48834779305085907,0.3997896831426414 L 0.5093790480760957,0.4019768929447591 L 0.530656659918715,0.4043449834771623 L 0.5524382151960378,0.4063182738470899 L 0.5743479657548834,0.40760936905123796 L 0.5962693486944839,0.408039415374928 L 0.6173554221347439,0.4090394371042257 L 0.6379096340851822,0.4110618827947155 L 0.6584338816923951,0.41355389659217034 L 0.6788687144818097,0.4160276987701792 L 0.6990397341300558,0.4179044965119863 L 0.7185755331688483,0.4187955638448797 L 0.7375394145325567,0.4195615524675542 L 0.7557371666611951,0.42122336164415497 L 0.7734242604672973,0.4232572097193991 L 0.7907266267971857,0.4251426475730359 L 0.8077732014463537,0.4269332248117236 L 0.8242306253676632,0.42804751822674575 L 0.8403014926921071,0.428126218050157 L 0.8553046731710545,0.4265812229341278 L 0.8690729778372343,0.42385374682664123 L 0.8815743928692505,0.4203087364450703 L 0.8927907238971522,0.4169057505312068 L 0.9030914229647444,0.4139422109039713 L 0.9124212110371863,0.4116049558990558 L 0.9208617966258458,0.40977191399885415 L 0.9283652203849464,0.4084675916707847 L 0.934965679304562,0.4074869106394942 L 0.9405913228341244,0.4068212881333341 L 0.9451624393320329,0.4063583163272376 L 0.9488012260995708,0.4060548303241662 L 0.9513499448871622,0.4058496111353712 L 0.9529967698598956,0.40576968310892086 L 0.9534476362993868,0.4057486844466543 L 0.9541831553995895,0.4078324705954689 z\" /></g></svg>"
      ],
      "text/plain": [
       "<shapely.geometry.polygon.Polygon at 0x7fe683c8a080>"
      ]
     },
     "execution_count": 18,
     "metadata": {},
     "output_type": "execute_result"
    },
    {
     "data": {
      "image/png": "[encoded data removed]",
      "text/plain": [
       "<Figure size 432x288 with 1 Axes>"
      ]
     },
     "metadata": {
      "needs_background": "light"
     },
     "output_type": "display_data"
    }
   ],
   "source": [
    "for i in range(0,len(optim.polygon)):\n",
    "  x,y=optim.polygon[i].exterior.xy\n",
    "  plt.plot(x,y)\n",
    "plt.scatter(C[:,0], C[:,1])\n",
    "# plt.ylim([0,1])\n",
    "# plt.xlim([0,1])\n",
    "optim.polygon[-1]"
   ]
  },
  {
   "cell_type": "code",
   "execution_count": 17,
   "metadata": {
    "colab": {
     "base_uri": "https://localhost:8080/",
     "height": 282
    },
    "colab_type": "code",
    "executionInfo": {
     "elapsed": 339,
     "status": "ok",
     "timestamp": 1541445816491,
     "user": {
      "displayName": "Dana Lansigan",
      "photoUrl": "https://lh6.googleusercontent.com/-z8tbOQmjWU8/AAAAAAAAAAI/AAAAAAAAB1U/TKcR8Jv4yQ0/s64/photo.jpg",
      "userId": "11485059436611022761"
     },
     "user_tz": 480
    },
    "id": "OY56Zh93rGsQ",
    "outputId": "da2a81ba-37da-4530-bf38-95ee31689b9d"
   },
   "outputs": [
    {
     "data": {
      "text/plain": [
       "[<matplotlib.lines.Line2D at 0x7fe62a87a3c8>]"
      ]
     },
     "execution_count": 17,
     "metadata": {},
     "output_type": "execute_result"
    },
    {
     "data": {
      "image/png": "[encoded data removed]",
      "text/plain": [
       "<Figure size 432x288 with 1 Axes>"
      ]
     },
     "metadata": {
      "needs_background": "light"
     },
     "output_type": "display_data"
    }
   ],
   "source": [
    "start=0\n",
    "plt.plot(optim.profile['loss'][start:])\n",
    "# plt.plot(optim.profile['ClCd'][start:])"
   ]
  },
  {
   "cell_type": "code",
   "execution_count": null,
   "metadata": {},
   "outputs": [],
   "source": []
  }
 ],
 "metadata": {
  "accelerator": "GPU",
  "colab": {
   "collapsed_sections": [],
   "name": "optim.ipynb",
   "provenance": [],
   "version": "0.3.2"
  },
  "kernelspec": {
   "display_name": "Python 3",
   "language": "python",
   "name": "python3"
  },
  "language_info": {
   "codemirror_mode": {
    "name": "ipython",
    "version": 3
   },
   "file_extension": ".py",
   "mimetype": "text/x-python",
   "name": "python",
   "nbconvert_exporter": "python",
   "pygments_lexer": "ipython3",
   "version": "3.6.6"
  }
 },
 "nbformat": 4,
 "nbformat_minor": 1
}

{
 "cells": [
  {
   "cell_type": "code",
   "execution_count": 39,
   "metadata": {},
   "outputs": [],
   "source": [
    "import numpy as np\n",
    "from math import factorial\n",
    "from cmath import exp\n",
    "from numba import jit, cuda\n",
    "import numba as nb\n",
    "\n",
    "\n",
    "eps = 0\n",
    "\n",
    "\n",
    "def simplex_content(j, n_dims, signed, *args):\n",
    "    \"\"\"\n",
    "    Compute simplex content (j-dim-volume) using Cayley-Menger Determinant\n",
    "    :param j: dimension of simplex\n",
    "    :param n_dims: dimension of R^n space\n",
    "    :param signed: bool denoting whether to calculate signed content or unsigned content\n",
    "    :param args: v0, v1, ... vectors for the coordinates of the vertices defining the simplex\n",
    "\n",
    "    :return: vol: volume of the simplex\n",
    "    \"\"\"\n",
    "    assert(n_dims == len(args[0]))\n",
    "    assert(isinstance(signed, bool))\n",
    "    n_vert = len(args)\n",
    "    assert(n_vert == j+1)\n",
    "\n",
    "    if n_dims > j:\n",
    "        assert(not signed)\n",
    "\n",
    "    if not signed:\n",
    "        # construct Cayley-Menger matrix\n",
    "        B = np.zeros([j+2, j+2])\n",
    "        B[:, 0] = 1\n",
    "        B[0, :] = 1\n",
    "        B[0, 0] = 0\n",
    "        for r in range(1, j+2):\n",
    "            for c in range(r+1, j+2):\n",
    "                vr = args[r-1]\n",
    "                vc = args[c-1]\n",
    "                B[r, c] = np.linalg.norm(vr-vc) ** 2\n",
    "                B[c, r] = B[r, c]\n",
    "        vol2 = (-1)**(j+1) / (2**j) / (factorial(j)**2) * np.linalg.det(B)\n",
    "        if vol2 < 0:\n",
    "            print(\"Warning: zeroing small negative number {0}\".format(vol2))\n",
    "        vol = np.sqrt(max(0, vol2))\n",
    "    else:\n",
    "        # matrix determinant\n",
    "        mat = np.zeros([j, j])\n",
    "        for r in range(j):\n",
    "            mat[:, r] = args[r] - args[-1]\n",
    "        vol = np.linalg.det(mat) / factorial(j)\n",
    "\n",
    "    return vol"
   ]
  },
  {
   "cell_type": "code",
   "execution_count": 40,
   "metadata": {},
   "outputs": [],
   "source": [
    "BDIM2 = (16, 8)\n",
    "GDIM2 = (32, 16)\n",
    "BDIM3 = (8, 8, 4)\n",
    "GDIM3 = (16, 16, 8)\n",
    "\n",
    "\n",
    "def simplex_ft_bw_gpu(dF, V, E, D, res, t, j, mode='density', gpuid=0):\n",
    "    \"\"\"\n",
    "    Fourier transform backwards method for signal defined on a j-simplex set in R^n space\n",
    "    :param dF: sensitivities on frequency modes (res[0], res[1], ..., res[-1]/2+1, n_channel)\n",
    "    :param V: vertex list. float ndarray of shape (n_vertex, n_dims)\n",
    "    :param E: element list. int ndarray of shape (n_edge, j or j+1)\n",
    "              if j cols, then assume sign of area using RHR and use ghost node.\n",
    "    :param D: int ndarray of shape (n_vertex, n_channel)\n",
    "    :param t: n_dims tuple of period in each dimension\n",
    "    :param j: dimension of simplex set\n",
    "    :param mode: normalization mode.\n",
    "                 'density' for preserving density, 'mass' for preserving mass\n",
    "    :param gpuid: gpu device id\n",
    "\n",
    "    :return: dV: output tensor of shape (n_vertex, n_dims)\n",
    "     \"\"\"\n",
    "    cuda.select_device(gpuid)\n",
    "    n_dims = V.shape[1]\n",
    "    assert(n_dims in [2])  # GPU implementation not yet implemented for other dimensions\n",
    "    assert(j == 2) # not yet implemented for other simplices\n",
    "    assert(n_dims == len(res))  # consistent spacial dimensionality\n",
    "    assert(E.shape[0] == D.shape[0])  # consistent vertex numbers\n",
    "    assert(mode in ['density', 'mass'])\n",
    "\n",
    "    # number of columns in E\n",
    "    ghost = E.shape[1] == j and n_dims == j\n",
    "    assert (E.shape[1] == j+1 or ghost)\n",
    "    if ghost:\n",
    "        V = np.append(V, np.zeros([1, n_dims]), axis=0)\n",
    "        E = np.append(E, V.shape[0] - 1 + np.zeros([E.shape[0], 1], dtype=np.int), axis=1)\n",
    "    n_elem = E.shape[0]\n",
    "    n_vert = V.shape[0]\n",
    "    n_channel = D.shape[1]\n",
    "\n",
    "    # normalize frequencies\n",
    "    omega = np.array([2*np.pi/ti for ti in t])\n",
    "\n",
    "    # initialize output dV\n",
    "    dV_shape = list(V.shape)\n",
    "    dFdV_shape = tuple([j+1, n_dims] + list(dF.shape))\n",
    "    dV = np.zeros(dV_shape, dtype=np.complex128)\n",
    "    dFdV = np.zeros(dFdV_shape, dtype=np.complex128)\n",
    "\n",
    "    # compute content array and P array\n",
    "    C = np.zeros(n_elem)\n",
    "    P = np.zeros([n_elem, j+1, n_dims])\n",
    "\n",
    "    for ie in range(n_elem):\n",
    "        # content array\n",
    "        verts = E[ie]\n",
    "        vert_arrays = tuple([V[vert] for vert in verts])\n",
    "        C[ie] = factorial(j) * simplex_content(j, n_dims, ghost, *vert_arrays)\n",
    "        # p array\n",
    "        P[ie] = V[E[ie]]\n",
    "\n",
    "    # fftshift for dF\n",
    "    dF = np.fft.fftshift(dF, axes=tuple(range(n_dims-1)))\n",
    "        \n",
    "    # move arrays to device\n",
    "    V_mem = cuda.to_device(V)\n",
    "    E_mem = cuda.to_device(E)\n",
    "    D_mem = cuda.to_device(D)\n",
    "    C_mem = cuda.to_device(C)\n",
    "    P_mem = cuda.to_device(P)\n",
    "    dF_mem = cuda.to_device(dF)\n",
    "#     dV_mem = cuda.to_device(dV)\n",
    "    dFdV_mem = cuda.to_device(dFdV)\n",
    "    omega_mem = cuda.to_device(omega)\n",
    "\n",
    "    sum_reduce = cuda.reduce(lambda a, b: a + b)\n",
    "    # invoke kernel function\n",
    "    if n_dims == 2:\n",
    "        for ie in range(n_elem):\n",
    "            simplex_ft_bw_kernel2[GDIM2, BDIM2](ie, V_mem, E_mem, D_mem, C_mem, P_mem, omega_mem, dF_mem, dFdV_mem)\n",
    "            for ip in range(j+1):\n",
    "                for idim in range(n_dims):\n",
    "                    tmp_sum = sum_reduce(dFdV_mem[ip, idim].ravel())\n",
    "                    dV[E[ie, ip], idim] += tmp_sum\n",
    "        \n",
    "    elif n_dims == 3:\n",
    "        print(\"TODO: Not implemented for 3D yet...\")\n",
    "#     dV_mem.to_host()\n",
    "\n",
    "    if mode == 'density':\n",
    "        if not np.array_equal(res, res[0]*np.ones(len(res))):\n",
    "            print(\"WARNING: density preserving mode not correctly implemented if not all res are equal\")\n",
    "        dV *= res[0] ** j\n",
    "    return dV\n",
    "\n",
    "@cuda.jit\n",
    "def simplex_ft_bw_kernel2(ie, V, E, D, C, P, omega, dF, dFdV):\n",
    "    r = dF.shape[:-1]\n",
    "    j = 2\n",
    "    n_elem = E.shape[0]\n",
    "    n_dims = V.shape[1]\n",
    "    n_channel = D.shape[1]\n",
    "\n",
    "    # position within a grid\n",
    "    start_u, start_v = cuda.grid(2)\n",
    "\n",
    "    # u, v strides\n",
    "    stride_u = cuda.gridDim.x * cuda.blockDim.x\n",
    "    stride_v = cuda.gridDim.y * cuda.blockDim.y\n",
    "\n",
    "    uv = cuda.local.array(shape=(2), dtype=nb.float64)\n",
    "\n",
    "    for iu in range(start_u, int(r[0]), stride_u):\n",
    "        u = (iu - r[0] / 2) * omega[0]\n",
    "        for iv in range(start_v, int(r[1]), stride_v):\n",
    "            v = iv * omega[1]\n",
    "            uv[0] = u\n",
    "            uv[1] = v\n",
    "            for ic in range(n_channel):\n",
    "                fac = simplex_ft_bw_device2(P[ie], uv, dF[iu, iv, ic], C[ie])\n",
    "                ct = 0\n",
    "                for ip in range(j+1):\n",
    "                    dFdV[ip, 0, iu, iv, ic] = fac[ct]\n",
    "                    dFdV[ip, 1, iu, iv, ic] = fac[ct+1]\n",
    "                    ct += 2\n",
    "\n",
    "\n",
    "@cuda.jit(device=True)\n",
    "def simplex_ft_bw_device2(p, uv, df, c):\n",
    "    j = p.shape[0]-1\n",
    "    n_dims = len(uv)\n",
    "    sig0 = 0\n",
    "    sig1 = 0\n",
    "    sig2 = 0\n",
    "    S = 0.5\n",
    "    if not (uv[0] == 0 and uv[1] == 0):\n",
    "        for d in range(n_dims):\n",
    "            sig0 += p[0, d] * uv[d]\n",
    "            sig1 += p[1, d] * uv[d]\n",
    "            sig2 += p[2, d] * uv[d]\n",
    "        s01 = 1/(sig0-sig1)\n",
    "        s12 = 1/(sig1-sig2)\n",
    "        s20 = 1/(sig2-sig0)\n",
    "        e0 = -exp(-1j*sig0)*s01*s20\n",
    "        e1 = -exp(-1j*sig1)*s12*s01\n",
    "        e2 = -exp(-1j*sig2)*s20*s12\n",
    "        fac0 = e0*(-1j-s01+s20)-e1*s01+e2*s20\n",
    "        fac1 = e1*(-1j-s12+s01)-e2*s12+e0*s01\n",
    "        fac2 = e2*(-1j-s20+s12)-e0*s20+e1*s12\n",
    "        S = e0+e1+e2\n",
    "    \n",
    "    fac = (fac0, fac1, fac2)\n",
    "    # sorry for the ugly code below. numba doesn't allow lists and it's a real pain.\n",
    "    ip = 0\n",
    "    pnx  = p[(ip+1)%(j+1), 0]\n",
    "    pny  = p[(ip+1)%(j+1), 1]\n",
    "    pnnx = p[(ip+2)%(j+1), 0]\n",
    "    pnny = p[(ip+2)%(j+1), 1]\n",
    "    res00 = df*(uv[0]*fac[ip]*c-S*(pny-pnny))\n",
    "    res01 = df*(uv[1]*fac[ip]*c-S*(-pnx+pnnx))\n",
    "    ip = 1\n",
    "    pnx  = p[(ip+1)%(j+1), 0]\n",
    "    pny  = p[(ip+1)%(j+1), 1]\n",
    "    pnnx = p[(ip+2)%(j+1), 0]\n",
    "    pnny = p[(ip+2)%(j+1), 1]\n",
    "    res10 = df*(uv[0]*fac[ip]*c-S*(pny-pnny))\n",
    "    res11 = df*(uv[1]*fac[ip]*c-S*(-pnx+pnnx))\n",
    "    ip = 2\n",
    "    pnx  = p[(ip+1)%(j+1), 0]\n",
    "    pny  = p[(ip+1)%(j+1), 1]\n",
    "    pnnx = p[(ip+2)%(j+1), 0]\n",
    "    pnny = p[(ip+2)%(j+1), 1]\n",
    "    res20 = df*(uv[0]*fac[ip]*c-S*(pny-pnny))\n",
    "    res21 = df*(uv[1]*fac[ip]*c-S*(-pnx+pnnx))\n",
    "    return res00, res01, res10, res11, res20, res21"
   ]
  },
  {
   "cell_type": "code",
   "execution_count": 41,
   "metadata": {},
   "outputs": [],
   "source": [
    "# from transform import simplex_ft_bw_gpu\n",
    "import numpy as np\n",
    "from time import time\n",
    "\n",
    "V = np.array([[0.2,0.2],\n",
    "              [0.8,0.5],\n",
    "              [0.8,0.8],\n",
    "              [0.6,0.8]])\n",
    "V = V+1e-10*np.random.rand(*V.shape)\n",
    "E = np.array([[0,1],\n",
    "              [1,2],\n",
    "              [2,3],\n",
    "              [3,0]])\n",
    "# E = np.array([[0,1,2],\n",
    "#               [2,3,0]])\n",
    "D = np.ones((E.shape[0], 1))\n",
    "\n",
    "# Freq = simplex_ft_gpu(V, E, D, (256,256),(1,1),2)\n",
    "dF = np.ones((256, 128, 1), dtype=np.complex_)\n",
    "dV = simplex_ft_bw_gpu(dF, V, E, D, (256, 256), (1,1), 2, mode='mass')"
   ]
  },
  {
   "cell_type": "code",
   "execution_count": 42,
   "metadata": {},
   "outputs": [
    {
     "name": "stdout",
     "output_type": "stream",
     "text": [
      "[[ 1.11572231e+03+4.59734181e+03j -4.23790969e+03-1.01843844e+04j]\n",
      " [ 2.05738148e+04-8.26306080e+03j -2.97057511e+04+1.65260633e+04j]\n",
      " [ 1.08120883e+03-2.24760287e-01j -1.43322339e+03-9.84060344e+00j]\n",
      " [-3.47682914e+02+7.41307263e+02j  1.49112429e+02-4.78704241e+02j]\n",
      " [ 1.18033669e+06-6.70171178e-01j -1.88633647e+06+5.03016246e-01j]]\n"
     ]
    }
   ],
   "source": [
    "print(dV)"
   ]
  },
  {
   "cell_type": "code",
   "execution_count": 8,
   "metadata": {},
   "outputs": [
    {
     "data": {
      "image/png": "[encoded data removed]",
      "text/plain": [
       "<Figure size 720x720 with 2 Axes>"
      ]
     },
     "metadata": {},
     "output_type": "display_data"
    }
   ],
   "source": [
    "from transform import simplex_ft_cpu\n",
    "Freq = simplex_ft_cpu(V, E, D, (512,512),(1,1),2)\n",
    "%matplotlib inline\n",
    "import matplotlib.pyplot as plt\n",
    "\n",
    "plt.figure(figsize=(10,10))\n",
    "plt.imshow(np.fft.irfft2(np.squeeze(Freq), (512,512)), origin='lower')\n",
    "plt.colorbar()\n",
    "plt.show()"
   ]
  },
  {
   "cell_type": "code",
   "execution_count": null,
   "metadata": {},
   "outputs": [],
   "source": [
    "dV = simplex_ft_bw_gpu(dF, V, E, D, (256, 256), (1,1), 2, mode='mass')\n",
    "print(dV)"
   ]
  },
  {
   "cell_type": "code",
   "execution_count": 27,
   "metadata": {},
   "outputs": [],
   "source": [
    "dF = np.ones((512, 256, 1), dtype=np.complex_)\n",
    "\n",
    "from transform import simplex_ft_cpu, simplex_ft_gpu\n",
    "dV_list = []\n",
    "delta_list = [10**(-i) for i in range(1,8)]\n",
    "for delta in delta_list:\n",
    "#     dV_fd = np.zeros(list(V.shape)+list(dF.shape), dtype=np.complex_)\n",
    "    dV_fd = np.zeros(list(V.shape), dtype=np.complex_)\n",
    "    for i in range(V.shape[0]):\n",
    "        for j in range(V.shape[1]):\n",
    "            V_p = V.copy()\n",
    "            V_m = V.copy()\n",
    "            V_p[i, j] += delta\n",
    "            V_m[i, j] -= delta\n",
    "            Freq_p = simplex_ft_gpu(V_p, E, D, (512,512),(1,1),2)\n",
    "            Freq_m = simplex_ft_gpu(V_m, E, D, (512,512),(1,1),2)\n",
    "            dV_fd[i,j] = np.sum(Freq_p[:256,:128] - Freq_m[:256,:128]) / delta / 2\n",
    "    dV_list.append(dV_fd)"
   ]
  },
  {
   "cell_type": "code",
   "execution_count": 36,
   "metadata": {},
   "outputs": [
    {
     "name": "stdout",
     "output_type": "stream",
     "text": [
      "[[ -5130.00496105 +8649.60269184j  -3089.32334995 +9655.55860602j]\n",
      " [  8896.25870373+34071.2147038j  -19433.50908205  -737.99379944j]\n",
      " [-13830.78963178+38121.20483936j  12827.52542963+12257.52274114j]\n",
      " [-17213.9317403  -5446.29025501j  24413.51745494+11469.14214016j]]\n"
     ]
    }
   ],
   "source": [
    "print(dV_list[-1])"
   ]
  },
  {
   "cell_type": "code",
   "execution_count": 29,
   "metadata": {},
   "outputs": [
    {
     "data": {
      "image/png": "[encoded data removed]",
      "text/plain": [
       "<Figure size 432x288 with 1 Axes>"
      ]
     },
     "metadata": {},
     "output_type": "display_data"
    }
   ],
   "source": [
    "plt.figure()\n",
    "for ii in range(V.shape[0]):\n",
    "    for jj in range(V.shape[1]):\n",
    "        q0 = [dV_list[i][ii,jj] for i in range(len(dV_list))]\n",
    "        plt.semilogx(delta_list, np.real(q0))\n",
    "plt.show()"
   ]
  },
  {
   "cell_type": "code",
   "execution_count": 28,
   "metadata": {},
   "outputs": [
    {
     "ename": "TypeError",
     "evalue": "Invalid dimensions for image data",
     "output_type": "error",
     "traceback": [
      "\u001b[0;31m---------------------------------------------------------------------------\u001b[0m",
      "\u001b[0;31mTypeError\u001b[0m                                 Traceback (most recent call last)",
      "\u001b[0;32m<ipython-input-28-fc05515b4002>\u001b[0m in \u001b[0;36m<module>\u001b[0;34m()\u001b[0m\n\u001b[1;32m      1\u001b[0m \u001b[0mplt\u001b[0m\u001b[0;34m.\u001b[0m\u001b[0mfigure\u001b[0m\u001b[0;34m(\u001b[0m\u001b[0;34m)\u001b[0m\u001b[0;34m\u001b[0m\u001b[0m\n\u001b[0;32m----> 2\u001b[0;31m \u001b[0mplt\u001b[0m\u001b[0;34m.\u001b[0m\u001b[0mimshow\u001b[0m\u001b[0;34m(\u001b[0m\u001b[0mnp\u001b[0m\u001b[0;34m.\u001b[0m\u001b[0msqueeze\u001b[0m\u001b[0;34m(\u001b[0m\u001b[0mnp\u001b[0m\u001b[0;34m.\u001b[0m\u001b[0mabsolute\u001b[0m\u001b[0;34m(\u001b[0m\u001b[0mdV_list\u001b[0m\u001b[0;34m[\u001b[0m\u001b[0;36m6\u001b[0m\u001b[0;34m]\u001b[0m\u001b[0;34m[\u001b[0m\u001b[0;36m3\u001b[0m\u001b[0;34m,\u001b[0m\u001b[0;36m1\u001b[0m\u001b[0;34m]\u001b[0m\u001b[0;34m-\u001b[0m\u001b[0mdV_list\u001b[0m\u001b[0;34m[\u001b[0m\u001b[0;36m5\u001b[0m\u001b[0;34m]\u001b[0m\u001b[0;34m[\u001b[0m\u001b[0;36m3\u001b[0m\u001b[0;34m,\u001b[0m\u001b[0;36m1\u001b[0m\u001b[0;34m]\u001b[0m\u001b[0;34m)\u001b[0m\u001b[0;34m)\u001b[0m\u001b[0;34m.\u001b[0m\u001b[0mastype\u001b[0m\u001b[0;34m(\u001b[0m\u001b[0mnp\u001b[0m\u001b[0;34m.\u001b[0m\u001b[0mfloat64\u001b[0m\u001b[0;34m)\u001b[0m\u001b[0;34m,\u001b[0m \u001b[0morigin\u001b[0m\u001b[0;34m=\u001b[0m\u001b[0;34m'lower'\u001b[0m\u001b[0;34m,\u001b[0m \u001b[0mvmin\u001b[0m\u001b[0;34m=\u001b[0m\u001b[0;36m0\u001b[0m\u001b[0;34m,\u001b[0m \u001b[0mvmax\u001b[0m\u001b[0;34m=\u001b[0m\u001b[0;36m0.01\u001b[0m\u001b[0;34m)\u001b[0m\u001b[0;34m\u001b[0m\u001b[0m\n\u001b[0m\u001b[1;32m      3\u001b[0m \u001b[0mplt\u001b[0m\u001b[0;34m.\u001b[0m\u001b[0mcolorbar\u001b[0m\u001b[0;34m(\u001b[0m\u001b[0;34m)\u001b[0m\u001b[0;34m\u001b[0m\u001b[0m\n\u001b[1;32m      4\u001b[0m \u001b[0mplt\u001b[0m\u001b[0;34m.\u001b[0m\u001b[0mshow\u001b[0m\u001b[0;34m(\u001b[0m\u001b[0;34m)\u001b[0m\u001b[0;34m\u001b[0m\u001b[0m\n",
      "\u001b[0;32m~/software/anaconda3/lib/python3.6/site-packages/matplotlib/pyplot.py\u001b[0m in \u001b[0;36mimshow\u001b[0;34m(X, cmap, norm, aspect, interpolation, alpha, vmin, vmax, origin, extent, shape, filternorm, filterrad, imlim, resample, url, hold, data, **kwargs)\u001b[0m\n\u001b[1;32m   3203\u001b[0m                         \u001b[0mfilternorm\u001b[0m\u001b[0;34m=\u001b[0m\u001b[0mfilternorm\u001b[0m\u001b[0;34m,\u001b[0m \u001b[0mfilterrad\u001b[0m\u001b[0;34m=\u001b[0m\u001b[0mfilterrad\u001b[0m\u001b[0;34m,\u001b[0m\u001b[0;34m\u001b[0m\u001b[0m\n\u001b[1;32m   3204\u001b[0m                         \u001b[0mimlim\u001b[0m\u001b[0;34m=\u001b[0m\u001b[0mimlim\u001b[0m\u001b[0;34m,\u001b[0m \u001b[0mresample\u001b[0m\u001b[0;34m=\u001b[0m\u001b[0mresample\u001b[0m\u001b[0;34m,\u001b[0m \u001b[0murl\u001b[0m\u001b[0;34m=\u001b[0m\u001b[0murl\u001b[0m\u001b[0;34m,\u001b[0m \u001b[0mdata\u001b[0m\u001b[0;34m=\u001b[0m\u001b[0mdata\u001b[0m\u001b[0;34m,\u001b[0m\u001b[0;34m\u001b[0m\u001b[0m\n\u001b[0;32m-> 3205\u001b[0;31m                         **kwargs)\n\u001b[0m\u001b[1;32m   3206\u001b[0m     \u001b[0;32mfinally\u001b[0m\u001b[0;34m:\u001b[0m\u001b[0;34m\u001b[0m\u001b[0m\n\u001b[1;32m   3207\u001b[0m         \u001b[0max\u001b[0m\u001b[0;34m.\u001b[0m\u001b[0m_hold\u001b[0m \u001b[0;34m=\u001b[0m \u001b[0mwashold\u001b[0m\u001b[0;34m\u001b[0m\u001b[0m\n",
      "\u001b[0;32m~/software/anaconda3/lib/python3.6/site-packages/matplotlib/__init__.py\u001b[0m in \u001b[0;36minner\u001b[0;34m(ax, *args, **kwargs)\u001b[0m\n\u001b[1;32m   1853\u001b[0m                         \u001b[0;34m\"the Matplotlib list!)\"\u001b[0m \u001b[0;34m%\u001b[0m \u001b[0;34m(\u001b[0m\u001b[0mlabel_namer\u001b[0m\u001b[0;34m,\u001b[0m \u001b[0mfunc\u001b[0m\u001b[0;34m.\u001b[0m\u001b[0m__name__\u001b[0m\u001b[0;34m)\u001b[0m\u001b[0;34m,\u001b[0m\u001b[0;34m\u001b[0m\u001b[0m\n\u001b[1;32m   1854\u001b[0m                         RuntimeWarning, stacklevel=2)\n\u001b[0;32m-> 1855\u001b[0;31m             \u001b[0;32mreturn\u001b[0m \u001b[0mfunc\u001b[0m\u001b[0;34m(\u001b[0m\u001b[0max\u001b[0m\u001b[0;34m,\u001b[0m \u001b[0;34m*\u001b[0m\u001b[0margs\u001b[0m\u001b[0;34m,\u001b[0m \u001b[0;34m**\u001b[0m\u001b[0mkwargs\u001b[0m\u001b[0;34m)\u001b[0m\u001b[0;34m\u001b[0m\u001b[0m\n\u001b[0m\u001b[1;32m   1856\u001b[0m \u001b[0;34m\u001b[0m\u001b[0m\n\u001b[1;32m   1857\u001b[0m         inner.__doc__ = _add_data_doc(inner.__doc__,\n",
      "\u001b[0;32m~/software/anaconda3/lib/python3.6/site-packages/matplotlib/axes/_axes.py\u001b[0m in \u001b[0;36mimshow\u001b[0;34m(self, X, cmap, norm, aspect, interpolation, alpha, vmin, vmax, origin, extent, shape, filternorm, filterrad, imlim, resample, url, **kwargs)\u001b[0m\n\u001b[1;32m   5485\u001b[0m                               resample=resample, **kwargs)\n\u001b[1;32m   5486\u001b[0m \u001b[0;34m\u001b[0m\u001b[0m\n\u001b[0;32m-> 5487\u001b[0;31m         \u001b[0mim\u001b[0m\u001b[0;34m.\u001b[0m\u001b[0mset_data\u001b[0m\u001b[0;34m(\u001b[0m\u001b[0mX\u001b[0m\u001b[0;34m)\u001b[0m\u001b[0;34m\u001b[0m\u001b[0m\n\u001b[0m\u001b[1;32m   5488\u001b[0m         \u001b[0mim\u001b[0m\u001b[0;34m.\u001b[0m\u001b[0mset_alpha\u001b[0m\u001b[0;34m(\u001b[0m\u001b[0malpha\u001b[0m\u001b[0;34m)\u001b[0m\u001b[0;34m\u001b[0m\u001b[0m\n\u001b[1;32m   5489\u001b[0m         \u001b[0;32mif\u001b[0m \u001b[0mim\u001b[0m\u001b[0;34m.\u001b[0m\u001b[0mget_clip_path\u001b[0m\u001b[0;34m(\u001b[0m\u001b[0;34m)\u001b[0m \u001b[0;32mis\u001b[0m \u001b[0;32mNone\u001b[0m\u001b[0;34m:\u001b[0m\u001b[0;34m\u001b[0m\u001b[0m\n",
      "\u001b[0;32m~/software/anaconda3/lib/python3.6/site-packages/matplotlib/image.py\u001b[0m in \u001b[0;36mset_data\u001b[0;34m(self, A)\u001b[0m\n\u001b[1;32m    651\u001b[0m         if not (self._A.ndim == 2\n\u001b[1;32m    652\u001b[0m                 or self._A.ndim == 3 and self._A.shape[-1] in [3, 4]):\n\u001b[0;32m--> 653\u001b[0;31m             \u001b[0;32mraise\u001b[0m \u001b[0mTypeError\u001b[0m\u001b[0;34m(\u001b[0m\u001b[0;34m\"Invalid dimensions for image data\"\u001b[0m\u001b[0;34m)\u001b[0m\u001b[0;34m\u001b[0m\u001b[0m\n\u001b[0m\u001b[1;32m    654\u001b[0m \u001b[0;34m\u001b[0m\u001b[0m\n\u001b[1;32m    655\u001b[0m         \u001b[0;32mif\u001b[0m \u001b[0mself\u001b[0m\u001b[0;34m.\u001b[0m\u001b[0m_A\u001b[0m\u001b[0;34m.\u001b[0m\u001b[0mndim\u001b[0m \u001b[0;34m==\u001b[0m \u001b[0;36m3\u001b[0m\u001b[0;34m:\u001b[0m\u001b[0;34m\u001b[0m\u001b[0m\n",
      "\u001b[0;31mTypeError\u001b[0m: Invalid dimensions for image data"
     ]
    },
    {
     "data": {
      "image/png": "[encoded data removed]",
      "text/plain": [
       "<Figure size 432x288 with 1 Axes>"
      ]
     },
     "metadata": {},
     "output_type": "display_data"
    }
   ],
   "source": [
    "plt.figure()\n",
    "plt.imshow(np.squeeze(np.absolute(dV_list[6][3,1]-dV_list[5][3,1])).astype(np.float64), origin='lower', vmin=0, vmax=0.01)\n",
    "plt.colorbar()\n",
    "plt.show()"
   ]
  },
  {
   "cell_type": "code",
   "execution_count": null,
   "metadata": {},
   "outputs": [],
   "source": [
    "from transform import simplex_ft_gpu\n",
    "delta = 0.1\n",
    "Freq = simplex_ft_gpu(V, E, D, (256,256),(1,1),2)\n",
    "dV_fd = np.zeros_like(V, dtype=np.complex_)\n",
    "for i in range(V.shape[0]):\n",
    "    for j in range(V.shape[1]):\n",
    "        V_delta = V.copy()\n",
    "        V_delta[i, j] += delta\n",
    "        Freq_delta = simplex_ft_gpu(V_delta, E, D, (256,256),(1,1),2)\n",
    "        dV_fd[i,j] = np.sum((Freq_delta - Freq)) / delta\n",
    "# print(dV_fd)\n",
    "print(np.sum(Freq))"
   ]
  },
  {
   "cell_type": "code",
   "execution_count": null,
   "metadata": {},
   "outputs": [],
   "source": [
    "eps = 1e-5\n",
    "k = np.array([0,0])+eps*np.random.randn(2)\n",
    "x1 = np.array([0,0])\n",
    "x2 = np.array([.5, .25])\n",
    "x3 = np.array([.25, .5])\n"
   ]
  }
 ],
 "metadata": {
  "kernelspec": {
   "display_name": "Python 3",
   "language": "python",
   "name": "python3"
  },
  "language_info": {
   "codemirror_mode": {
    "name": "ipython",
    "version": 3
   },
   "file_extension": ".py",
   "mimetype": "text/x-python",
   "name": "python",
   "nbconvert_exporter": "python",
   "pygments_lexer": "ipython3",
   "version": "3.6.5"
  }
 },
 "nbformat": 4,
 "nbformat_minor": 2
}

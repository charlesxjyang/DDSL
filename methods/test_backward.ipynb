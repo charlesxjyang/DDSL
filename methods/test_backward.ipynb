{
 "cells": [
  {
   "cell_type": "markdown",
   "metadata": {},
   "source": [
    "## Testing the backward method by comparing to Finite Difference results"
   ]
  },
  {
   "cell_type": "code",
   "execution_count": 1,
   "metadata": {},
   "outputs": [],
   "source": [
    "from transform import simplex_ft_bw_gpu, simplex_ft_gpu\n",
    "import numpy as np\n",
    "import matplotlib.pyplot as plt\n",
    "\n",
    "# Vertex matrix\n",
    "V = np.array([[0.2,0.2],\n",
    "              [0.8,0.5],\n",
    "              [0.8,0.8],\n",
    "              [0.6,0.8]])\n",
    "V = V+1e-4*np.random.rand(*V.shape) # break the symmetry with small random noise\n",
    "# Element matrix\n",
    "E = np.array([[0,1],\n",
    "              [1,2],\n",
    "              [2,3],\n",
    "              [3,0]])\n",
    "# Density matrix (Unit Density)\n",
    "D = np.ones((E.shape[0], 1))\n",
    "# Sensitivity on each frequency mode\n",
    "dF = np.ones((256, 128, 1), dtype=np.complex_) # unit sensitivity"
   ]
  },
  {
   "cell_type": "markdown",
   "metadata": {},
   "source": [
    "### Visualize the shape"
   ]
  },
  {
   "cell_type": "code",
   "execution_count": 2,
   "metadata": {},
   "outputs": [
    {
     "data": {
      "image/png": "[encoded data removed]",
      "text/plain": [
       "<Figure size 432x432 with 2 Axes>"
      ]
     },
     "metadata": {},
     "output_type": "display_data"
    }
   ],
   "source": [
    "Freq = simplex_ft_gpu(V, E, D, (512,512),(1,1),2)\n",
    "%matplotlib inline\n",
    "\n",
    "plt.figure(figsize=(6,6))\n",
    "plt.imshow(np.fft.irfft2(np.squeeze(Freq), (512,512)).T, origin='lower')\n",
    "plt.colorbar()\n",
    "plt.show()"
   ]
  },
  {
   "cell_type": "markdown",
   "metadata": {},
   "source": [
    "### The additional row in adjoint solution is for the \"ghost\" vertex, which is close to zero."
   ]
  },
  {
   "cell_type": "code",
   "execution_count": 3,
   "metadata": {},
   "outputs": [
    {
     "name": "stdout",
     "output_type": "stream",
     "text": [
      "Finite Difference Approximation: \n",
      " [[-1.41944850e+02  +22.56441196j  2.23308548e+02  -85.13461495j]\n",
      " [-4.62487745e+03+1338.47779989j -1.16721829e+00  +31.55004744j]\n",
      " [-5.73537120e+03 -244.46633319j -1.58926353e+02 -107.6128714j ]\n",
      " [ 2.23398351e+01 -102.45691998j -6.15432396e+01  +69.44118075j]] \n",
      "\n",
      "Analytical Adjoint: \n",
      " [[-1.41945123e+02+2.25647662e+01j  2.23306300e+02-8.51344349e+01j]\n",
      " [-4.62487160e+03+1.33847856e+03j -1.16554535e+00+3.15493068e+01j]\n",
      " [-5.73537190e+03-2.44466395e+02j -1.58922257e+02-1.07613567e+02j]\n",
      " [ 2.23523675e+01-1.02456578e+02j -6.15569748e+01+6.94397872e+01j]\n",
      " [ 2.05331054e-03+3.80212441e-07j -1.79164088e-03-3.53902578e-07j]] \n",
      "\n",
      "Relative error (%): \n",
      " 0.004522777465460862\n"
     ]
    }
   ],
   "source": [
    "# Finite difference approximation\n",
    "delta = 1e-6\n",
    "dV_fd_all = np.zeros(list(V.shape)+list(dF.shape), dtype=np.complex_)\n",
    "for i in range(V.shape[0]):\n",
    "    for j in range(V.shape[1]):\n",
    "        V_p = V.copy()\n",
    "        V_m = V.copy()\n",
    "        V_p[i, j] += delta\n",
    "        V_m[i, j] -= delta\n",
    "        Freq_p = simplex_ft_gpu(V_p, E, D, (256,256),(1,1),2, mode='density')\n",
    "        Freq_m = simplex_ft_gpu(V_m, E, D, (256,256),(1,1),2, mode='density')\n",
    "        dV_fd_all[i,j] = (Freq_p - Freq_m) / delta / 2\n",
    "dV_fd = np.sum(dV_fd_all, (2,3,4))\n",
    "        \n",
    "# Analytical Adjoint solution\n",
    "dV = simplex_ft_bw_gpu(dF, V, E, D, (256, 256), (1,1), 2, mode='density')\n",
    "\n",
    "# Print and compare\n",
    "print(\"Finite Difference Approximation: \\n\", dV_fd, \"\\n\")\n",
    "print(\"Analytical Adjoint: \\n\", dV, \"\\n\")\n",
    "\n",
    "# Relative error\n",
    "nvert = V.shape[0]\n",
    "rdiff = np.mean(np.absolute((dV_fd - dV[:nvert])/dV[:nvert]))\n",
    "print(\"Relative error (%): \\n\", rdiff*100)"
   ]
  }
 ],
 "metadata": {
  "kernelspec": {
   "display_name": "Python 3",
   "language": "python",
   "name": "python3"
  },
  "language_info": {
   "codemirror_mode": {
    "name": "ipython",
    "version": 3
   },
   "file_extension": ".py",
   "mimetype": "text/x-python",
   "name": "python",
   "nbconvert_exporter": "python",
   "pygments_lexer": "ipython3",
   "version": "3.6.5"
  }
 },
 "nbformat": 4,
 "nbformat_minor": 2
}
